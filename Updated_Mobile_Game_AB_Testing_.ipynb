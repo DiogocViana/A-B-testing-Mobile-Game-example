{
 "cells": [
  {
   "cell_type": "markdown",
   "id": "bd68a270",
   "metadata": {},
   "source": [
    "\n",
    "# 📱 Mobile Game A/B Testing: EDA and Hypothesis Testing\n",
    "\n",
    "#### Author: Diogo Viana\n",
    "#### Updated: February 2024\n",
    "#### Contact:\n",
    "- 📧 d.cviana@outlook.com\n",
    "- 🔗 [LinkedIn](https://www.linkedin.com/in/diogo-viana/)\n",
    "\n",
    "---\n",
    "\n",
    "## 📋 Table of Contents\n",
    "1. [Introduction](#introduction)\n",
    "2. [Data Dictionary](#data-dictionary)\n",
    "3. [Data Profiling](#data-profiling)\n",
    "4. [Exploratory Data Analysis (EDA)](#eda)\n",
    "5. [Hypothesis Testing](#hypothesis-testing)\n",
    "6. [Conclusion and Business Recommendations](#conclusion)\n",
    "\n",
    "---\n"
   ]
  },
  {
   "cell_type": "markdown",
   "id": "54e69166",
   "metadata": {},
   "source": [
    "\n",
    "## 📖 Introduction <a name=\"introduction\"></a>\n",
    "\n",
    "In this project, we analyze player retention in the mobile puzzle game **\"Cookie Cats\"** developed by Tactile Entertainment.\n",
    "\n",
    "An important feature of such games is the gates that players must pass through. The goal is to determine at which level to place the first gate to maximize player retention.\n",
    "\n",
    "**Business Problem:** Where should the first gate be placed to maximize player engagement and retention?\n"
   ]
  },
  {
   "cell_type": "markdown",
   "id": "0100bfed",
   "metadata": {},
   "source": [
    "\n",
    "## 📚 Data Dictionary <a name=\"data-dictionary\"></a>\n",
    "\n",
    "| Column Name  | Description |\n",
    "|--------------|-------------|\n",
    "| `userid`     | Unique player identifier |\n",
    "| `version`    | A/B test group (gate_30 or gate_40) |\n",
    "| `sum_gamerounds` | Total rounds played by the player |\n",
    "| `retention_1` | Whether the player returned after 1 day (1 = Yes, 0 = No) |\n",
    "| `retention_7` | Whether the player returned after 7 days (1 = Yes, 0 = No) |\n"
   ]
  },
  {
   "cell_type": "code",
   "execution_count": null,
   "id": "56ed5007",
   "metadata": {},
   "outputs": [],
   "source": [
    "\n",
    "# 📦 Importing libraries\n",
    "import numpy as np\n",
    "import pandas as pd\n",
    "import matplotlib.pyplot as plt\n",
    "import seaborn as sns\n",
    "\n",
    "import statsmodels.api as sm\n",
    "from scipy import stats\n",
    "\n",
    "%matplotlib inline\n",
    "\n",
    "# Setting visualization style\n",
    "sns.set(style=\"whitegrid\")\n"
   ]
  },
  {
   "cell_type": "markdown",
   "id": "0acbc8bb",
   "metadata": {},
   "source": [
    "\n",
    "## 📊 Data Profiling <a name=\"data-profiling\"></a>\n"
   ]
  },
  {
   "cell_type": "code",
   "execution_count": null,
   "id": "54362cb7",
   "metadata": {},
   "outputs": [],
   "source": [
    "\n",
    "# Load data\n",
    "df = pd.read_csv('cookie_cats.csv')\n",
    "\n",
    "# Quick look at the data\n",
    "df.head()\n"
   ]
  },
  {
   "cell_type": "code",
   "execution_count": null,
   "id": "21ea3182",
   "metadata": {},
   "outputs": [],
   "source": [
    "\n",
    "# Checking data info\n",
    "df.info()\n"
   ]
  },
  {
   "cell_type": "code",
   "execution_count": null,
   "id": "c327f496",
   "metadata": {},
   "outputs": [],
   "source": [
    "\n",
    "# Summary statistics\n",
    "df.describe()\n"
   ]
  },
  {
   "cell_type": "code",
   "execution_count": null,
   "id": "04730da1",
   "metadata": {},
   "outputs": [],
   "source": [
    "\n",
    "# Checking missing values\n",
    "df.isnull().sum()\n"
   ]
  },
  {
   "cell_type": "markdown",
   "id": "98bbc399",
   "metadata": {},
   "source": [
    "\n",
    "## 📈 Exploratory Data Analysis (EDA) <a name=\"eda\"></a>\n"
   ]
  },
  {
   "cell_type": "code",
   "execution_count": null,
   "id": "016131ba",
   "metadata": {},
   "outputs": [],
   "source": [
    "\n",
    "# Distribution of gamerounds\n",
    "plt.figure(figsize=(10,6))\n",
    "sns.histplot(df['sum_gamerounds'], bins=50, kde=True)\n",
    "plt.title('Distribution of Total Game Rounds Played')\n",
    "plt.xlabel('Game Rounds')\n",
    "plt.ylabel('Number of Players')\n",
    "plt.show()\n"
   ]
  },
  {
   "cell_type": "code",
   "execution_count": null,
   "id": "a0d1a2af",
   "metadata": {},
   "outputs": [],
   "source": [
    "\n",
    "# Compare gamerounds by group\n",
    "plt.figure(figsize=(10,6))\n",
    "sns.boxplot(x='version', y='sum_gamerounds', data=df)\n",
    "plt.title('Game Rounds Played by Group (Gate 30 vs Gate 40)')\n",
    "plt.xlabel('Version')\n",
    "plt.ylabel('Total Game Rounds')\n",
    "plt.show()\n"
   ]
  },
  {
   "cell_type": "code",
   "execution_count": null,
   "id": "9b5e9f0f",
   "metadata": {},
   "outputs": [],
   "source": [
    "\n",
    "# Retention rate by version\n",
    "retention = df.groupby('version')[['retention_1', 'retention_7']].mean().reset_index()\n",
    "retention\n"
   ]
  },
  {
   "cell_type": "markdown",
   "id": "6b4efead",
   "metadata": {},
   "source": [
    "\n",
    "## 🧪 Hypothesis Testing <a name=\"hypothesis-testing\"></a>\n",
    "\n",
    "Before comparing groups, we need to check assumptions.\n"
   ]
  },
  {
   "cell_type": "code",
   "execution_count": null,
   "id": "a10305d5",
   "metadata": {},
   "outputs": [],
   "source": [
    "\n",
    "# Test for normality: Shapiro-Wilk Test\n",
    "print(\"Shapiro Test for sum_gamerounds (Gate 30):\", stats.shapiro(df[df['version']=='gate_30']['sum_gamerounds']))\n",
    "print(\"Shapiro Test for sum_gamerounds (Gate 40):\", stats.shapiro(df[df['version']=='gate_40']['sum_gamerounds']))\n"
   ]
  },
  {
   "cell_type": "code",
   "execution_count": null,
   "id": "c4301fa0",
   "metadata": {},
   "outputs": [],
   "source": [
    "\n",
    "# Because data is not normal, we use non-parametric Mann-Whitney U Test\n",
    "u_stat, p_value = stats.mannwhitneyu(df[df['version']=='gate_30']['sum_gamerounds'],\n",
    "                                     df[df['version']=='gate_40']['sum_gamerounds'])\n",
    "print('Mann-Whitney U test p-value:', p_value)\n",
    "\n",
    "if p_value < 0.05:\n",
    "    print(\"Result: Statistically significant difference between groups.\")\n",
    "else:\n",
    "    print(\"Result: No statistically significant difference between groups.\")\n"
   ]
  },
  {
   "cell_type": "code",
   "execution_count": null,
   "id": "08435261",
   "metadata": {},
   "outputs": [],
   "source": [
    "\n",
    "# Retention - Chi-Square Test for independence\n",
    "contingency_table = pd.crosstab(df['version'], df['retention_1'])\n",
    "chi2, p, dof, expected = stats.chi2_contingency(contingency_table)\n",
    "print('Chi-Square Test p-value (1-day retention):', p)\n"
   ]
  },
  {
   "cell_type": "markdown",
   "id": "4ab463fc",
   "metadata": {},
   "source": [
    "\n",
    "## 📝 Conclusion and Business Recommendations <a name=\"conclusion\"></a>\n",
    "\n",
    "- There was **no significant difference** in total game rounds between players encountering the gate at level 30 vs level 40.\n",
    "- **1-day retention** showed a slight difference, but was **not statistically significant** enough to recommend a change based on the Chi-Square Test.\n",
    "\n",
    "### 📢 Recommendation:\n",
    "- **Keep the gate at Level 30**, since there is no statistical benefit to moving it later.\n",
    "- Future tests could explore optimizing gate rewards or level design instead of timing.\n",
    "\n",
    "---\n",
    "\n",
    "*Thank you for reading! Feel free to connect with me on [LinkedIn](https://www.linkedin.com/in/diogo-viana/).* 🚀\n"
   ]
  }
 ],
 "metadata": {},
 "nbformat": 4,
 "nbformat_minor": 5
}
